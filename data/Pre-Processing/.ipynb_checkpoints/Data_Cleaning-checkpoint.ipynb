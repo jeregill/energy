{
 "cells": [
  {
   "cell_type": "code",
   "execution_count": 1,
   "metadata": {},
   "outputs": [],
   "source": [
    "import pandas as pd\n",
    "import numpy as np"
   ]
  },
  {
   "cell_type": "code",
   "execution_count": 2,
   "metadata": {},
   "outputs": [],
   "source": [
    "# read in workbook\n",
    "workbook = pd.ExcelFile('bp-stats-review-2020-all-data.xlsx')"
   ]
  },
  {
   "cell_type": "code",
   "execution_count": 3,
   "metadata": {},
   "outputs": [],
   "source": [
    "# Clean function\n",
    "def cleanAndParse(workbook, sheetname, indexCol):\n",
    "    '''\n",
    "    Parse sheetname from workbook object and clean the dataframe to be ready for data manipulation\n",
    "    '''\n",
    "    df = workbook.parse(sheetname, header=2)\n",
    "    df = df.dropna(how='all')\n",
    "    df = df[~df[indexCol].str.contains(\"Total\")]\n",
    "    df = df[~df[indexCol].str.contains(\"Other\")]\n",
    "    rowLastIndex = df.index[df[indexCol] == 'of which: OECD'].tolist()[0]\n",
    "    df = df.truncate(after = rowLastIndex-1)\n",
    "    colLastIndex = df.columns.get_loc(2019)\n",
    "    df = df.iloc[:, :colLastIndex + 1]\n",
    "    return df\n"
   ]
  },
  {
   "cell_type": "code",
   "execution_count": 4,
   "metadata": {},
   "outputs": [],
   "source": [
    "# Transform DF to a list of tuples meeting our criteria\n",
    "def createListForEnergyType(df, indexCol, energyType, emissionsMap):\n",
    "    '''\n",
    "    Create a new list with tuples in the form (Country, Year, Type, Consumption, Energy)\n",
    "    from the cleaned dataframe\n",
    "    '''\n",
    "    acc = []\n",
    "    for index, row in df.iterrows():\n",
    "        for column in df:\n",
    "            if column == indexCol:\n",
    "                continue\n",
    "            key = row[indexCol] + '_' + str(column)\n",
    "            emissionsEntry = emissionsMap[key]\n",
    "            newTuple = (row[indexCol], column, energyType, row[column], emissionsEntry)\n",
    "            acc.append(newTuple)\n",
    "    return acc"
   ]
  },
  {
   "cell_type": "code",
   "execution_count": 5,
   "metadata": {},
   "outputs": [],
   "source": [
    "# Need to create emissions map, not separated by energy type\n",
    "def createEmissionsMap(emissionsDf, indexCol):\n",
    "    '''\n",
    "    Create map object storing a country and it's emissions for a particular year\n",
    "    key = country_year\n",
    "    value = tonnes of carbon dioxide\n",
    "    '''\n",
    "    retDict = {}\n",
    "    for index, row in emissions.iterrows():\n",
    "        for column in emissions:\n",
    "            if column == indexCol:\n",
    "                continue\n",
    "            newKey = row[indexCol] + '_' + str(column)\n",
    "            newVal = row[column]\n",
    "            retDict[newKey] = newVal\n",
    "    return retDict"
   ]
  },
  {
   "cell_type": "code",
   "execution_count": 6,
   "metadata": {},
   "outputs": [],
   "source": [
    "## Step 1: create emissions Map\n",
    "emissions = cleanAndParse(workbook, 'Carbon Dioxide Emissions', 'Million tonnes of carbon dioxide')\n",
    "emissionsMap = createEmissionsMap(emissions, 'Million tonnes of carbon dioxide')\n",
    "exa = 'Exajoules'\n",
    "exa_equiv = 'Exajoules (input-equivalent)'"
   ]
  },
  {
   "cell_type": "code",
   "execution_count": 7,
   "metadata": {},
   "outputs": [],
   "source": [
    "## Step 2: construct dataframes for all the energy types\n",
    "oilCleaned = cleanAndParse(workbook, 'Oil Consumption - EJ', exa)\n",
    "gasCleaned = cleanAndParse(workbook, 'Gas Consumption - EJ', exa)\n",
    "coalCleaned = cleanAndParse(workbook, 'Coal Consumption - EJ', exa)\n",
    "nuclearCleaned = cleanAndParse(workbook, 'Nuclear Consumption - EJ', exa_equiv)\n",
    "hydroCleaned = cleanAndParse(workbook, 'Hydro Consumption - EJ', exa)\n",
    "renewCleaned = cleanAndParse(workbook, 'Renewables Consumption - EJ', exa_equiv)\n",
    "solarCleaned = cleanAndParse(workbook, 'Solar Consumption - EJ', exa_equiv)\n",
    "windCleaned = cleanAndParse(workbook, 'Wind Consumption - EJ', exa_equiv)\n",
    "geoCleaned = cleanAndParse(workbook, 'Geo Biomass Other - EJ', exa_equiv)"
   ]
  },
  {
   "cell_type": "code",
   "execution_count": 8,
   "metadata": {},
   "outputs": [],
   "source": [
    "## Step 3: translate DFs into tuples that we want\n",
    "oilList = createListForEnergyType(oilCleaned, exa, 'Oil', emissionsMap)\n",
    "gasList = createListForEnergyType(gasCleaned, exa, 'Gas', emissionsMap)\n",
    "coalList = createListForEnergyType(coalCleaned, exa, 'Coal', emissionsMap)\n",
    "nuclearList = createListForEnergyType(nuclearCleaned, exa_equiv, 'Nuclear', emissionsMap)\n",
    "hydroList = createListForEnergyType(hydroCleaned, exa, 'Hydro', emissionsMap)\n",
    "renewList = createListForEnergyType(renewCleaned, exa_equiv, 'Renewables', emissionsMap)\n",
    "solarList = createListForEnergyType(solarCleaned, exa_equiv, 'Solar', emissionsMap)\n",
    "windList = createListForEnergyType(windCleaned, exa_equiv, 'Wind', emissionsMap)\n",
    "geoList = createListForEnergyType(geoCleaned, exa_equiv, 'Geo', emissionsMap)"
   ]
  },
  {
   "cell_type": "code",
   "execution_count": 9,
   "metadata": {},
   "outputs": [],
   "source": [
    "## Step 4: Combine all the lists\n",
    "all_lists = [oilList, gasList, coalList, nuclearList, hydroList, renewList, solarList, windList, geoList]\n",
    "combined = []\n",
    "for lst in all_lists:\n",
    "    combined = combined + lst"
   ]
  },
  {
   "cell_type": "code",
   "execution_count": 10,
   "metadata": {},
   "outputs": [],
   "source": [
    "## Step 5: Turn the list of tuples into a dataframe\n",
    "columns = ['Country', 'Year', 'Type', 'Consumption', 'Emissions']\n",
    "combined_df = pd.DataFrame(combined, columns=columns)"
   ]
  },
  {
   "cell_type": "code",
   "execution_count": 11,
   "metadata": {},
   "outputs": [],
   "source": [
    "## Step 6: read in lat_lon data\n",
    "lat_lon = pd.read_excel('lat_lon.xlsx', sheet_name='data')"
   ]
  },
  {
   "cell_type": "code",
   "execution_count": 12,
   "metadata": {},
   "outputs": [],
   "source": [
    "# Step 7: read and transpose population data\n",
    "def createPopulationDf():\n",
    "    pop = pd.read_csv('country_population.csv')\n",
    "    pop_list = []\n",
    "    for index, row in pop.iterrows():\n",
    "        country = row['Country']\n",
    "        country_code = row['Country Code']\n",
    "        country_id = row['Country ID']\n",
    "        for column in pop:\n",
    "            if column == 'Country' or column == 'Country Code' or column == 'Country ID':\n",
    "                pass\n",
    "            else:\n",
    "                year = column\n",
    "                pop_value = row[year]\n",
    "                tup = (country, int(year), country_id, country_code, pop_value)\n",
    "                pop_list.append(tup)\n",
    "    pop_columns = ['Country', 'Year', 'Country ID', 'Country Code', 'Population']\n",
    "    pop_df = pd.DataFrame(pop_list, columns=pop_columns)\n",
    "    return pop_df\n",
    "\n",
    "pop_df = createPopulationDf()"
   ]
  },
  {
   "cell_type": "code",
   "execution_count": 13,
   "metadata": {},
   "outputs": [],
   "source": [
    "# Step 8: Merge together\n",
    "merge_df_1 = pd.merge(left=combined_df, right=pop_df,  how='inner', left_on=['Country','Year'], right_on = ['Country','Year'])\n",
    "merge_df_2 = pd.merge(left=merge_df_1, right=lat_lon, how='inner', left_on =['Country ID', 'Country'], right_on = ['Country ID', 'Country'])  "
   ]
  },
  {
   "cell_type": "code",
   "execution_count": 14,
   "metadata": {},
   "outputs": [],
   "source": [
    "# Step 9: Write to file\n",
    "## Change column to underscore if error\n",
    "merge_df_2.to_csv('energyData_merged.csv')"
   ]
  },
  {
   "cell_type": "code",
   "execution_count": null,
   "metadata": {},
   "outputs": [],
   "source": []
  }
 ],
 "metadata": {
  "kernelspec": {
   "display_name": "Python 3",
   "language": "python",
   "name": "python3"
  },
  "language_info": {
   "codemirror_mode": {
    "name": "ipython",
    "version": 3
   },
   "file_extension": ".py",
   "mimetype": "text/x-python",
   "name": "python",
   "nbconvert_exporter": "python",
   "pygments_lexer": "ipython3",
   "version": "3.7.3"
  }
 },
 "nbformat": 4,
 "nbformat_minor": 2
}
